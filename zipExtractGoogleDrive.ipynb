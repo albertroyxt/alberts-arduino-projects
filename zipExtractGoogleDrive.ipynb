from google.colab import drive
drive.mount('/content/gdrive')
print("step 1")
!ls "/content/gdrive/My Drive"
print("step 2")
!unzip "/content/gdrive/My Drive/course/react.zip"
print("done")
